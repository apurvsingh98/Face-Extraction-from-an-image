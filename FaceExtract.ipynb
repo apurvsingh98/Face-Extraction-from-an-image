{
  "nbformat": 4,
  "nbformat_minor": 0,
  "metadata": {
    "colab": {
      "name": "FaceExtract.ipynb",
      "provenance": [],
      "toc_visible": true
    },
    "kernelspec": {
      "name": "python3",
      "display_name": "Python 3"
    },
    "accelerator": "GPU"
  },
  "cells": [
    {
      "cell_type": "markdown",
      "metadata": {
        "id": "VCJwslWuqHzW",
        "colab_type": "text"
      },
      "source": [
        "Pip installation of retinaface module"
      ]
    },
    {
      "cell_type": "code",
      "metadata": {
        "id": "nKchmPzZqLEe",
        "colab_type": "code",
        "colab": {}
      },
      "source": [
        "!pip install retinaface"
      ],
      "execution_count": null,
      "outputs": []
    },
    {
      "cell_type": "markdown",
      "metadata": {
        "id": "QAckQfnOp87x",
        "colab_type": "text"
      },
      "source": [
        "Import all the necessary dependencies"
      ]
    },
    {
      "cell_type": "code",
      "metadata": {
        "id": "R0Tq-MeUqAPf",
        "colab_type": "code",
        "colab": {}
      },
      "source": [
        "import cv2 , os\n",
        "from math import ceil \n",
        "from retinaface import RetinaFace\n",
        "from google.colab.patches import cv2_imshow\n",
        "import dlib"
      ],
      "execution_count": 6,
      "outputs": []
    },
    {
      "cell_type": "markdown",
      "metadata": {
        "id": "cstXSXHtqN_D",
        "colab_type": "text"
      },
      "source": [
        "Initializing the RetinaFace model"
      ]
    },
    {
      "cell_type": "code",
      "metadata": {
        "id": "61fq7zSgqWrg",
        "colab_type": "code",
        "colab": {
          "base_uri": "https://localhost:8080/",
          "height": 54
        },
        "outputId": "134233b7-9dd1-4bc1-d7ba-e2a5eecce763"
      },
      "source": [
        "retina_detector = RetinaFace(quality=\"normal\")"
      ],
      "execution_count": 7,
      "outputs": [
        {
          "output_type": "stream",
          "text": [
            "model[normal quality] init ..\n",
            "model success !\n"
          ],
          "name": "stdout"
        }
      ]
    },
    {
      "cell_type": "markdown",
      "metadata": {
        "id": "qM5WcsZdqYfj",
        "colab_type": "text"
      },
      "source": [
        "Resizing of images using OpenCV as it will accelerate the performance"
      ]
    },
    {
      "cell_type": "code",
      "metadata": {
        "id": "wiDa-H6ppoVO",
        "colab_type": "code",
        "colab": {}
      },
      "source": [
        "import cv2,os\n",
        "\n",
        "path = '/content/images/'\n",
        "dirs = os.listdir(path)\n",
        "i = 0\n",
        "\n",
        "for im in dirs:\n",
        "\n",
        "  oriimg = cv2.imread(path+im,cv2.IMREAD_COLOR)\n",
        "  h, w, depth = oriimg.shape\n",
        "  w1 = 500\n",
        "  h1 = int(500*(h/w))\n",
        "  new_img = cv2.resize(oriimg,(w1,h1))\n",
        "  new_name = str(i)+ 'resized.jpeg'\n",
        "  cv2.imwrite('/content/resized_images/'+new_name,new_img)\n",
        "  i = i+1"
      ],
      "execution_count": null,
      "outputs": []
    },
    {
      "cell_type": "markdown",
      "metadata": {
        "id": "AfKC0I2-sYBF",
        "colab_type": "text"
      },
      "source": [
        "\n",
        "\n",
        "###Function for extracting the coordinates of the faces using RetinaFace's .\n",
        "\n",
        "Exception handling is used to\n",
        "\n",
        "*   Skip the images if it's numpy array doesn't have any relevant feature.\n",
        "*   Any issue in saving the images\n",
        "\n",
        "Face array is having the coordinates of the face whereas Face array padding contains the face with some padding with it, as some operations of emotion detection or head pose detection requires a complete face with some background context. Either of them can be used, the code by default makes use of the padded version\n",
        "\n"
      ]
    },
    {
      "cell_type": "code",
      "metadata": {
        "id": "AqCGk83NsoBi",
        "colab_type": "code",
        "colab": {}
      },
      "source": [
        "\n",
        "class Rect:\n",
        "    x_min = None\n",
        "    y_min = None\n",
        "    x_max = None\n",
        "    y_max = None\n",
        "    def __init__(self, x_min, y_min, x_max, y_max):\n",
        "        self.x_min = x_min\n",
        "        self.x_max = x_max\n",
        "        self.y_min = y_min\n",
        "        self.y_max = y_max\n",
        "\n",
        "def detected_faces_retinaface(original_image,name):\n",
        "    i = 0\n",
        "    names = name\n",
        "    f,e= os.path.splitext(names)\n",
        "    \n",
        "    try:\n",
        "      faces = retina_detector.predict(original_image)\n",
        "      if len(faces)>0:\n",
        "        for face in faces:\n",
        "            rect = Rect(face['x1'], face['y1'], face['x2'], face['y2'])\n",
        "            face_height = rect.y_max - rect.y_min\n",
        "            face_width = rect.x_max - rect.x_min\n",
        "            face_array = original_image[rect.y_min:rect.y_max, rect.x_min:rect.x_max]\n",
        "            face_array_padding = original_image[\n",
        "                                  ceil(rect.y_min - face_height * 0.3):ceil(rect.y_max + face_height * 0.3),\n",
        "                                  ceil(rect.x_min - face_width * 0.3):ceil(rect.x_max + face_width * 0.3)]\n",
        "            try:\n",
        "              cv2.imwrite(\"/content/extracted2/\"+f+str(i)+e,face_array_padding)\n",
        "              # cv2_imshow(face_array_padding)\n",
        "              i = i+1\n",
        "\n",
        "            except:\n",
        "              print(names)\n",
        "        \n",
        "    except:\n",
        "         print(f)"
      ],
      "execution_count": 17,
      "outputs": []
    },
    {
      "cell_type": "markdown",
      "metadata": {
        "id": "RwuuZRcyt9KP",
        "colab_type": "text"
      },
      "source": [
        "Code for running a loop through all the target images by calling the detect_faces_retinaface function"
      ]
    },
    {
      "cell_type": "code",
      "metadata": {
        "id": "mqfaJa0ZThFh",
        "colab_type": "code",
        "colab": {}
      },
      "source": [
        "\n",
        "path = \"/content/test/\"\n",
        "images  = sorted(os.listdir(path))\n",
        "for img in images:\n",
        "  im = cv2.imread(os.path.join(path,img), cv2.IMREAD_COLOR)\n",
        "  detected_faces_retinaface(im,img)\n"
      ],
      "execution_count": null,
      "outputs": []
    }
  ]
}